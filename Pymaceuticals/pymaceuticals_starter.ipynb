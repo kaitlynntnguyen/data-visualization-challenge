{
 "cells": [
  {
   "attachments": {},
   "cell_type": "markdown",
   "metadata": {},
   "source": [
    "# Pymaceuticals Inc.\n",
    "\n",
    " "
   ]
  },
  {
   "attachments": {},
   "cell_type": "markdown",
   "metadata": {},
   "source": [
    "The correlation between mouse weight and average tumor volume of 0.84 indicated a positive correlation beween wieght and tumor volume. Additionally, the correlation coefficient indicates that weight and tumor size are highly correlated; As weight increases, tumor size also increases.\n",
    "\n"
   ]
  },
  {
   "cell_type": "code",
   "execution_count": 1815,
   "metadata": {},
   "outputs": [
    {
     "data": {
      "text/html": [
       "<div>\n",
       "<style scoped>\n",
       "    .dataframe tbody tr th:only-of-type {\n",
       "        vertical-align: middle;\n",
       "    }\n",
       "\n",
       "    .dataframe tbody tr th {\n",
       "        vertical-align: top;\n",
       "    }\n",
       "\n",
       "    .dataframe thead th {\n",
       "        text-align: right;\n",
       "    }\n",
       "</style>\n",
       "<table border=\"1\" class=\"dataframe\">\n",
       "  <thead>\n",
       "    <tr style=\"text-align: right;\">\n",
       "      <th></th>\n",
       "      <th>Mouse ID</th>\n",
       "      <th>Timepoint</th>\n",
       "      <th>Tumor Volume (mm3)</th>\n",
       "      <th>Metastatic Sites</th>\n",
       "      <th>Drug Regimen</th>\n",
       "      <th>Sex</th>\n",
       "      <th>Age_months</th>\n",
       "      <th>Weight (g)</th>\n",
       "    </tr>\n",
       "  </thead>\n",
       "  <tbody>\n",
       "    <tr>\n",
       "      <th>0</th>\n",
       "      <td>b128</td>\n",
       "      <td>0</td>\n",
       "      <td>45.0</td>\n",
       "      <td>0</td>\n",
       "      <td>Capomulin</td>\n",
       "      <td>Female</td>\n",
       "      <td>9</td>\n",
       "      <td>22</td>\n",
       "    </tr>\n",
       "    <tr>\n",
       "      <th>1</th>\n",
       "      <td>f932</td>\n",
       "      <td>0</td>\n",
       "      <td>45.0</td>\n",
       "      <td>0</td>\n",
       "      <td>Ketapril</td>\n",
       "      <td>Male</td>\n",
       "      <td>15</td>\n",
       "      <td>29</td>\n",
       "    </tr>\n",
       "    <tr>\n",
       "      <th>2</th>\n",
       "      <td>g107</td>\n",
       "      <td>0</td>\n",
       "      <td>45.0</td>\n",
       "      <td>0</td>\n",
       "      <td>Ketapril</td>\n",
       "      <td>Female</td>\n",
       "      <td>2</td>\n",
       "      <td>29</td>\n",
       "    </tr>\n",
       "    <tr>\n",
       "      <th>3</th>\n",
       "      <td>a457</td>\n",
       "      <td>0</td>\n",
       "      <td>45.0</td>\n",
       "      <td>0</td>\n",
       "      <td>Ketapril</td>\n",
       "      <td>Female</td>\n",
       "      <td>11</td>\n",
       "      <td>30</td>\n",
       "    </tr>\n",
       "    <tr>\n",
       "      <th>4</th>\n",
       "      <td>c819</td>\n",
       "      <td>0</td>\n",
       "      <td>45.0</td>\n",
       "      <td>0</td>\n",
       "      <td>Ketapril</td>\n",
       "      <td>Male</td>\n",
       "      <td>21</td>\n",
       "      <td>25</td>\n",
       "    </tr>\n",
       "  </tbody>\n",
       "</table>\n",
       "</div>"
      ],
      "text/plain": [
       "  Mouse ID  Timepoint  Tumor Volume (mm3)  Metastatic Sites Drug Regimen  \\\n",
       "0     b128          0                45.0                 0    Capomulin   \n",
       "1     f932          0                45.0                 0     Ketapril   \n",
       "2     g107          0                45.0                 0     Ketapril   \n",
       "3     a457          0                45.0                 0     Ketapril   \n",
       "4     c819          0                45.0                 0     Ketapril   \n",
       "\n",
       "      Sex  Age_months  Weight (g)  \n",
       "0  Female           9          22  \n",
       "1    Male          15          29  \n",
       "2  Female           2          29  \n",
       "3  Female          11          30  \n",
       "4    Male          21          25  "
      ]
     },
     "execution_count": 1815,
     "metadata": {},
     "output_type": "execute_result"
    }
   ],
   "source": [
    "# Dependencies and Setup\n",
    "import matplotlib.pyplot as plt\n",
    "import pandas as pd\n",
    "import numpy as np\n",
    "import scipy.stats as st\n",
    "from matplotlib.patches import Polygon\n",
    "\n",
    "# Study data files\n",
    "mouse_metadata_path = \"data/Mouse_metadata.csv\"\n",
    "study_results_path = \"data/Study_results.csv\"\n",
    "\n",
    "# Read the mouse data and the study results\n",
    "mouse_metadata = pd.read_csv(mouse_metadata_path)\n",
    "study_results = pd.read_csv(study_results_path)\n",
    "\n",
    "# Combine the data into a single dataset\n",
    "study_data_complete=pd.merge(study_results, mouse_metadata, how=\"left\", on=[\"Mouse ID\",\"Mouse ID\"])\n",
    "\n",
    "# Display the data table for preview\n",
    "study_data_complete.head()"
   ]
  },
  {
   "cell_type": "code",
   "execution_count": 1816,
   "metadata": {},
   "outputs": [
    {
     "data": {
      "text/plain": [
       "249"
      ]
     },
     "execution_count": 1816,
     "metadata": {},
     "output_type": "execute_result"
    }
   ],
   "source": [
    "# Checking the number of mice\n",
    "total_mice=len(study_data_complete['Mouse ID'].unique())\n",
    "total_mice"
   ]
  },
  {
   "cell_type": "code",
   "execution_count": 1817,
   "metadata": {},
   "outputs": [
    {
     "data": {
      "text/plain": [
       "array(['g989'], dtype=object)"
      ]
     },
     "execution_count": 1817,
     "metadata": {},
     "output_type": "execute_result"
    }
   ],
   "source": [
    "# Getting the duplicate mice by ID number that shows up for Mouse ID and Timepoint. \n",
    "duplicate_mice=study_data_complete.duplicated(subset=[\"Mouse ID\",\"Timepoint\"])\n",
    "duplicate_mice_id=study_data_complete.loc[duplicate_mice,\"Mouse ID\"].unique()\n",
    "duplicate_mice_id"
   ]
  },
  {
   "cell_type": "code",
   "execution_count": 1818,
   "metadata": {},
   "outputs": [
    {
     "data": {
      "text/html": [
       "<div>\n",
       "<style scoped>\n",
       "    .dataframe tbody tr th:only-of-type {\n",
       "        vertical-align: middle;\n",
       "    }\n",
       "\n",
       "    .dataframe tbody tr th {\n",
       "        vertical-align: top;\n",
       "    }\n",
       "\n",
       "    .dataframe thead th {\n",
       "        text-align: right;\n",
       "    }\n",
       "</style>\n",
       "<table border=\"1\" class=\"dataframe\">\n",
       "  <thead>\n",
       "    <tr style=\"text-align: right;\">\n",
       "      <th></th>\n",
       "      <th>Mouse ID</th>\n",
       "      <th>Timepoint</th>\n",
       "      <th>Tumor Volume (mm3)</th>\n",
       "      <th>Metastatic Sites</th>\n",
       "      <th>Drug Regimen</th>\n",
       "      <th>Sex</th>\n",
       "      <th>Age_months</th>\n",
       "      <th>Weight (g)</th>\n",
       "    </tr>\n",
       "  </thead>\n",
       "  <tbody>\n",
       "    <tr>\n",
       "      <th>107</th>\n",
       "      <td>g989</td>\n",
       "      <td>0</td>\n",
       "      <td>45.000000</td>\n",
       "      <td>0</td>\n",
       "      <td>Propriva</td>\n",
       "      <td>Female</td>\n",
       "      <td>21</td>\n",
       "      <td>26</td>\n",
       "    </tr>\n",
       "    <tr>\n",
       "      <th>137</th>\n",
       "      <td>g989</td>\n",
       "      <td>0</td>\n",
       "      <td>45.000000</td>\n",
       "      <td>0</td>\n",
       "      <td>Propriva</td>\n",
       "      <td>Female</td>\n",
       "      <td>21</td>\n",
       "      <td>26</td>\n",
       "    </tr>\n",
       "    <tr>\n",
       "      <th>329</th>\n",
       "      <td>g989</td>\n",
       "      <td>5</td>\n",
       "      <td>48.786801</td>\n",
       "      <td>0</td>\n",
       "      <td>Propriva</td>\n",
       "      <td>Female</td>\n",
       "      <td>21</td>\n",
       "      <td>26</td>\n",
       "    </tr>\n",
       "    <tr>\n",
       "      <th>360</th>\n",
       "      <td>g989</td>\n",
       "      <td>5</td>\n",
       "      <td>47.570392</td>\n",
       "      <td>0</td>\n",
       "      <td>Propriva</td>\n",
       "      <td>Female</td>\n",
       "      <td>21</td>\n",
       "      <td>26</td>\n",
       "    </tr>\n",
       "    <tr>\n",
       "      <th>620</th>\n",
       "      <td>g989</td>\n",
       "      <td>10</td>\n",
       "      <td>51.745156</td>\n",
       "      <td>0</td>\n",
       "      <td>Propriva</td>\n",
       "      <td>Female</td>\n",
       "      <td>21</td>\n",
       "      <td>26</td>\n",
       "    </tr>\n",
       "    <tr>\n",
       "      <th>681</th>\n",
       "      <td>g989</td>\n",
       "      <td>10</td>\n",
       "      <td>49.880528</td>\n",
       "      <td>0</td>\n",
       "      <td>Propriva</td>\n",
       "      <td>Female</td>\n",
       "      <td>21</td>\n",
       "      <td>26</td>\n",
       "    </tr>\n",
       "    <tr>\n",
       "      <th>815</th>\n",
       "      <td>g989</td>\n",
       "      <td>15</td>\n",
       "      <td>51.325852</td>\n",
       "      <td>1</td>\n",
       "      <td>Propriva</td>\n",
       "      <td>Female</td>\n",
       "      <td>21</td>\n",
       "      <td>26</td>\n",
       "    </tr>\n",
       "    <tr>\n",
       "      <th>869</th>\n",
       "      <td>g989</td>\n",
       "      <td>15</td>\n",
       "      <td>53.442020</td>\n",
       "      <td>0</td>\n",
       "      <td>Propriva</td>\n",
       "      <td>Female</td>\n",
       "      <td>21</td>\n",
       "      <td>26</td>\n",
       "    </tr>\n",
       "    <tr>\n",
       "      <th>950</th>\n",
       "      <td>g989</td>\n",
       "      <td>20</td>\n",
       "      <td>55.326122</td>\n",
       "      <td>1</td>\n",
       "      <td>Propriva</td>\n",
       "      <td>Female</td>\n",
       "      <td>21</td>\n",
       "      <td>26</td>\n",
       "    </tr>\n",
       "    <tr>\n",
       "      <th>1111</th>\n",
       "      <td>g989</td>\n",
       "      <td>20</td>\n",
       "      <td>54.657650</td>\n",
       "      <td>1</td>\n",
       "      <td>Propriva</td>\n",
       "      <td>Female</td>\n",
       "      <td>21</td>\n",
       "      <td>26</td>\n",
       "    </tr>\n",
       "    <tr>\n",
       "      <th>1195</th>\n",
       "      <td>g989</td>\n",
       "      <td>25</td>\n",
       "      <td>56.045564</td>\n",
       "      <td>1</td>\n",
       "      <td>Propriva</td>\n",
       "      <td>Female</td>\n",
       "      <td>21</td>\n",
       "      <td>26</td>\n",
       "    </tr>\n",
       "    <tr>\n",
       "      <th>1380</th>\n",
       "      <td>g989</td>\n",
       "      <td>30</td>\n",
       "      <td>59.082294</td>\n",
       "      <td>1</td>\n",
       "      <td>Propriva</td>\n",
       "      <td>Female</td>\n",
       "      <td>21</td>\n",
       "      <td>26</td>\n",
       "    </tr>\n",
       "    <tr>\n",
       "      <th>1592</th>\n",
       "      <td>g989</td>\n",
       "      <td>35</td>\n",
       "      <td>62.570880</td>\n",
       "      <td>2</td>\n",
       "      <td>Propriva</td>\n",
       "      <td>Female</td>\n",
       "      <td>21</td>\n",
       "      <td>26</td>\n",
       "    </tr>\n",
       "  </tbody>\n",
       "</table>\n",
       "</div>"
      ],
      "text/plain": [
       "     Mouse ID  Timepoint  Tumor Volume (mm3)  Metastatic Sites Drug Regimen  \\\n",
       "107      g989          0           45.000000                 0     Propriva   \n",
       "137      g989          0           45.000000                 0     Propriva   \n",
       "329      g989          5           48.786801                 0     Propriva   \n",
       "360      g989          5           47.570392                 0     Propriva   \n",
       "620      g989         10           51.745156                 0     Propriva   \n",
       "681      g989         10           49.880528                 0     Propriva   \n",
       "815      g989         15           51.325852                 1     Propriva   \n",
       "869      g989         15           53.442020                 0     Propriva   \n",
       "950      g989         20           55.326122                 1     Propriva   \n",
       "1111     g989         20           54.657650                 1     Propriva   \n",
       "1195     g989         25           56.045564                 1     Propriva   \n",
       "1380     g989         30           59.082294                 1     Propriva   \n",
       "1592     g989         35           62.570880                 2     Propriva   \n",
       "\n",
       "         Sex  Age_months  Weight (g)  \n",
       "107   Female          21          26  \n",
       "137   Female          21          26  \n",
       "329   Female          21          26  \n",
       "360   Female          21          26  \n",
       "620   Female          21          26  \n",
       "681   Female          21          26  \n",
       "815   Female          21          26  \n",
       "869   Female          21          26  \n",
       "950   Female          21          26  \n",
       "1111  Female          21          26  \n",
       "1195  Female          21          26  \n",
       "1380  Female          21          26  \n",
       "1592  Female          21          26  "
      ]
     },
     "execution_count": 1818,
     "metadata": {},
     "output_type": "execute_result"
    }
   ],
   "source": [
    "# Optional: Get all the data for the duplicate mouse ID. \n",
    "duplicate_mice_data=study_data_complete.loc[study_data_complete['Mouse ID']==\"g989\",:]\n",
    "duplicate_mice_data"
   ]
  },
  {
   "cell_type": "code",
   "execution_count": 1819,
   "metadata": {},
   "outputs": [
    {
     "data": {
      "text/html": [
       "<div>\n",
       "<style scoped>\n",
       "    .dataframe tbody tr th:only-of-type {\n",
       "        vertical-align: middle;\n",
       "    }\n",
       "\n",
       "    .dataframe tbody tr th {\n",
       "        vertical-align: top;\n",
       "    }\n",
       "\n",
       "    .dataframe thead th {\n",
       "        text-align: right;\n",
       "    }\n",
       "</style>\n",
       "<table border=\"1\" class=\"dataframe\">\n",
       "  <thead>\n",
       "    <tr style=\"text-align: right;\">\n",
       "      <th></th>\n",
       "      <th>Mouse ID</th>\n",
       "      <th>Timepoint</th>\n",
       "      <th>Tumor Volume (mm3)</th>\n",
       "      <th>Metastatic Sites</th>\n",
       "      <th>Drug Regimen</th>\n",
       "      <th>Sex</th>\n",
       "      <th>Age_months</th>\n",
       "      <th>Weight (g)</th>\n",
       "    </tr>\n",
       "  </thead>\n",
       "  <tbody>\n",
       "    <tr>\n",
       "      <th>0</th>\n",
       "      <td>b128</td>\n",
       "      <td>0</td>\n",
       "      <td>45.0</td>\n",
       "      <td>0</td>\n",
       "      <td>Capomulin</td>\n",
       "      <td>Female</td>\n",
       "      <td>9</td>\n",
       "      <td>22</td>\n",
       "    </tr>\n",
       "    <tr>\n",
       "      <th>1</th>\n",
       "      <td>f932</td>\n",
       "      <td>0</td>\n",
       "      <td>45.0</td>\n",
       "      <td>0</td>\n",
       "      <td>Ketapril</td>\n",
       "      <td>Male</td>\n",
       "      <td>15</td>\n",
       "      <td>29</td>\n",
       "    </tr>\n",
       "    <tr>\n",
       "      <th>2</th>\n",
       "      <td>g107</td>\n",
       "      <td>0</td>\n",
       "      <td>45.0</td>\n",
       "      <td>0</td>\n",
       "      <td>Ketapril</td>\n",
       "      <td>Female</td>\n",
       "      <td>2</td>\n",
       "      <td>29</td>\n",
       "    </tr>\n",
       "    <tr>\n",
       "      <th>3</th>\n",
       "      <td>a457</td>\n",
       "      <td>0</td>\n",
       "      <td>45.0</td>\n",
       "      <td>0</td>\n",
       "      <td>Ketapril</td>\n",
       "      <td>Female</td>\n",
       "      <td>11</td>\n",
       "      <td>30</td>\n",
       "    </tr>\n",
       "    <tr>\n",
       "      <th>4</th>\n",
       "      <td>c819</td>\n",
       "      <td>0</td>\n",
       "      <td>45.0</td>\n",
       "      <td>0</td>\n",
       "      <td>Ketapril</td>\n",
       "      <td>Male</td>\n",
       "      <td>21</td>\n",
       "      <td>25</td>\n",
       "    </tr>\n",
       "  </tbody>\n",
       "</table>\n",
       "</div>"
      ],
      "text/plain": [
       "  Mouse ID  Timepoint  Tumor Volume (mm3)  Metastatic Sites Drug Regimen  \\\n",
       "0     b128          0                45.0                 0    Capomulin   \n",
       "1     f932          0                45.0                 0     Ketapril   \n",
       "2     g107          0                45.0                 0     Ketapril   \n",
       "3     a457          0                45.0                 0     Ketapril   \n",
       "4     c819          0                45.0                 0     Ketapril   \n",
       "\n",
       "      Sex  Age_months  Weight (g)  \n",
       "0  Female           9          22  \n",
       "1    Male          15          29  \n",
       "2  Female           2          29  \n",
       "3  Female          11          30  \n",
       "4    Male          21          25  "
      ]
     },
     "execution_count": 1819,
     "metadata": {},
     "output_type": "execute_result"
    }
   ],
   "source": [
    "# Create a clean DataFrame by dropping the duplicate mouse by its ID.\n",
    "clean_df=study_data_complete.drop_duplicates(keep='last')\n",
    "clean_df.head()"
   ]
  },
  {
   "cell_type": "code",
   "execution_count": 1820,
   "metadata": {},
   "outputs": [
    {
     "data": {
      "text/plain": [
       "248"
      ]
     },
     "execution_count": 1820,
     "metadata": {},
     "output_type": "execute_result"
    }
   ],
   "source": [
    "# Checking the number of mice in the clean DataFrame.\n",
    "total_mice_clean=len(clean_df[\"Mouse ID\"].unique())-1\n",
    "total_mice_clean"
   ]
  },
  {
   "cell_type": "markdown",
   "metadata": {},
   "source": [
    "## Summary Statistics"
   ]
  },
  {
   "cell_type": "code",
   "execution_count": 1821,
   "metadata": {},
   "outputs": [
    {
     "name": "stderr",
     "output_type": "stream",
     "text": [
      "/var/folders/9c/xsrc9nkx4sbccx8gf5zmqslr0000gn/T/ipykernel_33275/1545508848.py:5: FutureWarning: The default value of numeric_only in DataFrameGroupBy.mean is deprecated. In a future version, numeric_only will default to False. Either specify numeric_only or select only columns which should be valid for the function.\n",
      "  tumor_volume_mean=clean_df.groupby(['Drug Regimen']).mean()['Tumor Volume (mm3)']\n",
      "/var/folders/9c/xsrc9nkx4sbccx8gf5zmqslr0000gn/T/ipykernel_33275/1545508848.py:6: FutureWarning: The default value of numeric_only in DataFrameGroupBy.median is deprecated. In a future version, numeric_only will default to False. Either specify numeric_only or select only columns which should be valid for the function.\n",
      "  tumor_volume_median=clean_df.groupby(['Drug Regimen']).median()['Tumor Volume (mm3)']\n",
      "/var/folders/9c/xsrc9nkx4sbccx8gf5zmqslr0000gn/T/ipykernel_33275/1545508848.py:7: FutureWarning: The default value of numeric_only in DataFrameGroupBy.var is deprecated. In a future version, numeric_only will default to False. Either specify numeric_only or select only columns which should be valid for the function.\n",
      "  tumor_volume_variance=clean_df.groupby(['Drug Regimen']).var()['Tumor Volume (mm3)']\n",
      "/var/folders/9c/xsrc9nkx4sbccx8gf5zmqslr0000gn/T/ipykernel_33275/1545508848.py:8: FutureWarning: The default value of numeric_only in DataFrameGroupBy.std is deprecated. In a future version, numeric_only will default to False. Either specify numeric_only or select only columns which should be valid for the function.\n",
      "  tumor_volume_sd=clean_df.groupby(['Drug Regimen']).std()['Tumor Volume (mm3)']\n",
      "/var/folders/9c/xsrc9nkx4sbccx8gf5zmqslr0000gn/T/ipykernel_33275/1545508848.py:9: FutureWarning: The default value of numeric_only in DataFrameGroupBy.sem is deprecated. In a future version, numeric_only will default to False. Either specify numeric_only or select only columns which should be valid for the function.\n",
      "  tumor_volume_sem=clean_df.groupby(['Drug Regimen']).sem()['Tumor Volume (mm3)']\n"
     ]
    },
    {
     "data": {
      "text/html": [
       "<div>\n",
       "<style scoped>\n",
       "    .dataframe tbody tr th:only-of-type {\n",
       "        vertical-align: middle;\n",
       "    }\n",
       "\n",
       "    .dataframe tbody tr th {\n",
       "        vertical-align: top;\n",
       "    }\n",
       "\n",
       "    .dataframe thead th {\n",
       "        text-align: right;\n",
       "    }\n",
       "</style>\n",
       "<table border=\"1\" class=\"dataframe\">\n",
       "  <thead>\n",
       "    <tr style=\"text-align: right;\">\n",
       "      <th></th>\n",
       "      <th>Mean Tumor Volume</th>\n",
       "      <th>Median Tumor Volume</th>\n",
       "      <th>Tumor Volume Variance</th>\n",
       "      <th>Tumor Volume Std. Dev.</th>\n",
       "      <th>Tumor Volume Std. Err.</th>\n",
       "    </tr>\n",
       "    <tr>\n",
       "      <th>Drug Regimen</th>\n",
       "      <th></th>\n",
       "      <th></th>\n",
       "      <th></th>\n",
       "      <th></th>\n",
       "      <th></th>\n",
       "    </tr>\n",
       "  </thead>\n",
       "  <tbody>\n",
       "    <tr>\n",
       "      <th>Capomulin</th>\n",
       "      <td>40.675741</td>\n",
       "      <td>41.557809</td>\n",
       "      <td>24.947764</td>\n",
       "      <td>4.994774</td>\n",
       "      <td>0.329346</td>\n",
       "    </tr>\n",
       "    <tr>\n",
       "      <th>Ceftamin</th>\n",
       "      <td>52.591172</td>\n",
       "      <td>51.776157</td>\n",
       "      <td>39.290177</td>\n",
       "      <td>6.268188</td>\n",
       "      <td>0.469821</td>\n",
       "    </tr>\n",
       "    <tr>\n",
       "      <th>Infubinol</th>\n",
       "      <td>52.884795</td>\n",
       "      <td>51.820584</td>\n",
       "      <td>43.128684</td>\n",
       "      <td>6.567243</td>\n",
       "      <td>0.492236</td>\n",
       "    </tr>\n",
       "    <tr>\n",
       "      <th>Ketapril</th>\n",
       "      <td>55.235638</td>\n",
       "      <td>53.698743</td>\n",
       "      <td>68.553577</td>\n",
       "      <td>8.279709</td>\n",
       "      <td>0.603860</td>\n",
       "    </tr>\n",
       "    <tr>\n",
       "      <th>Naftisol</th>\n",
       "      <td>54.331565</td>\n",
       "      <td>52.509285</td>\n",
       "      <td>66.173479</td>\n",
       "      <td>8.134708</td>\n",
       "      <td>0.596466</td>\n",
       "    </tr>\n",
       "    <tr>\n",
       "      <th>Placebo</th>\n",
       "      <td>54.033581</td>\n",
       "      <td>52.288934</td>\n",
       "      <td>61.168083</td>\n",
       "      <td>7.821003</td>\n",
       "      <td>0.581331</td>\n",
       "    </tr>\n",
       "    <tr>\n",
       "      <th>Propriva</th>\n",
       "      <td>52.368318</td>\n",
       "      <td>50.909965</td>\n",
       "      <td>42.278090</td>\n",
       "      <td>6.502160</td>\n",
       "      <td>0.514041</td>\n",
       "    </tr>\n",
       "    <tr>\n",
       "      <th>Ramicane</th>\n",
       "      <td>40.216745</td>\n",
       "      <td>40.673236</td>\n",
       "      <td>23.486704</td>\n",
       "      <td>4.846308</td>\n",
       "      <td>0.320955</td>\n",
       "    </tr>\n",
       "    <tr>\n",
       "      <th>Stelasyn</th>\n",
       "      <td>54.233149</td>\n",
       "      <td>52.431737</td>\n",
       "      <td>59.450562</td>\n",
       "      <td>7.710419</td>\n",
       "      <td>0.573111</td>\n",
       "    </tr>\n",
       "    <tr>\n",
       "      <th>Zoniferol</th>\n",
       "      <td>53.236507</td>\n",
       "      <td>51.818479</td>\n",
       "      <td>48.533355</td>\n",
       "      <td>6.966589</td>\n",
       "      <td>0.516398</td>\n",
       "    </tr>\n",
       "  </tbody>\n",
       "</table>\n",
       "</div>"
      ],
      "text/plain": [
       "              Mean Tumor Volume  Median Tumor Volume  Tumor Volume Variance  \\\n",
       "Drug Regimen                                                                  \n",
       "Capomulin             40.675741            41.557809              24.947764   \n",
       "Ceftamin              52.591172            51.776157              39.290177   \n",
       "Infubinol             52.884795            51.820584              43.128684   \n",
       "Ketapril              55.235638            53.698743              68.553577   \n",
       "Naftisol              54.331565            52.509285              66.173479   \n",
       "Placebo               54.033581            52.288934              61.168083   \n",
       "Propriva              52.368318            50.909965              42.278090   \n",
       "Ramicane              40.216745            40.673236              23.486704   \n",
       "Stelasyn              54.233149            52.431737              59.450562   \n",
       "Zoniferol             53.236507            51.818479              48.533355   \n",
       "\n",
       "              Tumor Volume Std. Dev.  Tumor Volume Std. Err.  \n",
       "Drug Regimen                                                  \n",
       "Capomulin                   4.994774                0.329346  \n",
       "Ceftamin                    6.268188                0.469821  \n",
       "Infubinol                   6.567243                0.492236  \n",
       "Ketapril                    8.279709                0.603860  \n",
       "Naftisol                    8.134708                0.596466  \n",
       "Placebo                     7.821003                0.581331  \n",
       "Propriva                    6.502160                0.514041  \n",
       "Ramicane                    4.846308                0.320955  \n",
       "Stelasyn                    7.710419                0.573111  \n",
       "Zoniferol                   6.966589                0.516398  "
      ]
     },
     "execution_count": 1821,
     "metadata": {},
     "output_type": "execute_result"
    }
   ],
   "source": [
    "# Generate a summary statistics table of mean, median, variance, standard deviation, and SEM of the tumor volume for each regimen\n",
    "# Use groupby and summary statistical methods to calculate the following properties of each drug regimen: \n",
    "# mean, median, variance, standard deviation, and SEM of the tumor volume. \n",
    "# Assemble the resulting series into a single summary DataFrame.\n",
    "tumor_volume_mean=clean_df.groupby(['Drug Regimen']).mean()['Tumor Volume (mm3)']\n",
    "tumor_volume_median=clean_df.groupby(['Drug Regimen']).median()['Tumor Volume (mm3)']\n",
    "tumor_volume_variance=clean_df.groupby(['Drug Regimen']).var()['Tumor Volume (mm3)']\n",
    "tumor_volume_sd=clean_df.groupby(['Drug Regimen']).std()['Tumor Volume (mm3)']\n",
    "tumor_volume_sem=clean_df.groupby(['Drug Regimen']).sem()['Tumor Volume (mm3)']\n",
    "\n",
    "tumor_volume_summary_stats=pd.DataFrame({ \"Mean Tumor Volume\":tumor_volume_mean, \n",
    "                                          \"Median Tumor Volume\": tumor_volume_median, \n",
    "                                          \"Tumor Volume Variance\": tumor_volume_variance, \n",
    "                                          \"Tumor Volume Std. Dev.\": tumor_volume_sd, \n",
    "                                          \"Tumor Volume Std. Err.\": tumor_volume_sem})\n",
    "\n",
    "tumor_volume_summary_stats"
   ]
  },
  {
   "cell_type": "code",
   "execution_count": 1822,
   "metadata": {},
   "outputs": [
    {
     "name": "stderr",
     "output_type": "stream",
     "text": [
      "/var/folders/9c/xsrc9nkx4sbccx8gf5zmqslr0000gn/T/ipykernel_33275/2328905267.py:3: FutureWarning: The default value of numeric_only in DataFrameGroupBy.mean is deprecated. In a future version, numeric_only will default to False. Either specify numeric_only or select only columns which should be valid for the function.\n",
      "  tumor_volume_mean=clean_df.groupby(['Drug Regimen']).mean()['Tumor Volume (mm3)']\n",
      "/var/folders/9c/xsrc9nkx4sbccx8gf5zmqslr0000gn/T/ipykernel_33275/2328905267.py:4: FutureWarning: The default value of numeric_only in DataFrameGroupBy.median is deprecated. In a future version, numeric_only will default to False. Either specify numeric_only or select only columns which should be valid for the function.\n",
      "  tumor_volume_median=clean_df.groupby(['Drug Regimen']).median()['Tumor Volume (mm3)']\n",
      "/var/folders/9c/xsrc9nkx4sbccx8gf5zmqslr0000gn/T/ipykernel_33275/2328905267.py:5: FutureWarning: The default value of numeric_only in DataFrameGroupBy.var is deprecated. In a future version, numeric_only will default to False. Either specify numeric_only or select only columns which should be valid for the function.\n",
      "  tumor_volume_variance=clean_df.groupby(['Drug Regimen']).var()['Tumor Volume (mm3)']\n",
      "/var/folders/9c/xsrc9nkx4sbccx8gf5zmqslr0000gn/T/ipykernel_33275/2328905267.py:6: FutureWarning: The default value of numeric_only in DataFrameGroupBy.std is deprecated. In a future version, numeric_only will default to False. Either specify numeric_only or select only columns which should be valid for the function.\n",
      "  tumor_volume_sd=clean_df.groupby(['Drug Regimen']).std()['Tumor Volume (mm3)']\n",
      "/var/folders/9c/xsrc9nkx4sbccx8gf5zmqslr0000gn/T/ipykernel_33275/2328905267.py:7: FutureWarning: The default value of numeric_only in DataFrameGroupBy.sem is deprecated. In a future version, numeric_only will default to False. Either specify numeric_only or select only columns which should be valid for the function.\n",
      "  tumor_volume_sem=clean_df.groupby(['Drug Regimen']).sem()['Tumor Volume (mm3)']\n"
     ]
    },
    {
     "data": {
      "text/html": [
       "<div>\n",
       "<style scoped>\n",
       "    .dataframe tbody tr th:only-of-type {\n",
       "        vertical-align: middle;\n",
       "    }\n",
       "\n",
       "    .dataframe tbody tr th {\n",
       "        vertical-align: top;\n",
       "    }\n",
       "\n",
       "    .dataframe thead th {\n",
       "        text-align: right;\n",
       "    }\n",
       "</style>\n",
       "<table border=\"1\" class=\"dataframe\">\n",
       "  <thead>\n",
       "    <tr style=\"text-align: right;\">\n",
       "      <th></th>\n",
       "      <th>Mean Tumor Volume</th>\n",
       "      <th>Median Tumor Volume</th>\n",
       "      <th>Tumor Volume Variance</th>\n",
       "      <th>Tumor Volume Std. Dev.</th>\n",
       "      <th>Tumor Volume Std. Err.</th>\n",
       "    </tr>\n",
       "    <tr>\n",
       "      <th>Drug Regimen</th>\n",
       "      <th></th>\n",
       "      <th></th>\n",
       "      <th></th>\n",
       "      <th></th>\n",
       "      <th></th>\n",
       "    </tr>\n",
       "  </thead>\n",
       "  <tbody>\n",
       "    <tr>\n",
       "      <th>Capomulin</th>\n",
       "      <td>40.675741</td>\n",
       "      <td>41.557809</td>\n",
       "      <td>24.947764</td>\n",
       "      <td>4.994774</td>\n",
       "      <td>0.329346</td>\n",
       "    </tr>\n",
       "    <tr>\n",
       "      <th>Ceftamin</th>\n",
       "      <td>52.591172</td>\n",
       "      <td>51.776157</td>\n",
       "      <td>39.290177</td>\n",
       "      <td>6.268188</td>\n",
       "      <td>0.469821</td>\n",
       "    </tr>\n",
       "    <tr>\n",
       "      <th>Infubinol</th>\n",
       "      <td>52.884795</td>\n",
       "      <td>51.820584</td>\n",
       "      <td>43.128684</td>\n",
       "      <td>6.567243</td>\n",
       "      <td>0.492236</td>\n",
       "    </tr>\n",
       "    <tr>\n",
       "      <th>Ketapril</th>\n",
       "      <td>55.235638</td>\n",
       "      <td>53.698743</td>\n",
       "      <td>68.553577</td>\n",
       "      <td>8.279709</td>\n",
       "      <td>0.603860</td>\n",
       "    </tr>\n",
       "    <tr>\n",
       "      <th>Naftisol</th>\n",
       "      <td>54.331565</td>\n",
       "      <td>52.509285</td>\n",
       "      <td>66.173479</td>\n",
       "      <td>8.134708</td>\n",
       "      <td>0.596466</td>\n",
       "    </tr>\n",
       "    <tr>\n",
       "      <th>Placebo</th>\n",
       "      <td>54.033581</td>\n",
       "      <td>52.288934</td>\n",
       "      <td>61.168083</td>\n",
       "      <td>7.821003</td>\n",
       "      <td>0.581331</td>\n",
       "    </tr>\n",
       "    <tr>\n",
       "      <th>Propriva</th>\n",
       "      <td>52.368318</td>\n",
       "      <td>50.909965</td>\n",
       "      <td>42.278090</td>\n",
       "      <td>6.502160</td>\n",
       "      <td>0.514041</td>\n",
       "    </tr>\n",
       "    <tr>\n",
       "      <th>Ramicane</th>\n",
       "      <td>40.216745</td>\n",
       "      <td>40.673236</td>\n",
       "      <td>23.486704</td>\n",
       "      <td>4.846308</td>\n",
       "      <td>0.320955</td>\n",
       "    </tr>\n",
       "    <tr>\n",
       "      <th>Stelasyn</th>\n",
       "      <td>54.233149</td>\n",
       "      <td>52.431737</td>\n",
       "      <td>59.450562</td>\n",
       "      <td>7.710419</td>\n",
       "      <td>0.573111</td>\n",
       "    </tr>\n",
       "    <tr>\n",
       "      <th>Zoniferol</th>\n",
       "      <td>53.236507</td>\n",
       "      <td>51.818479</td>\n",
       "      <td>48.533355</td>\n",
       "      <td>6.966589</td>\n",
       "      <td>0.516398</td>\n",
       "    </tr>\n",
       "  </tbody>\n",
       "</table>\n",
       "</div>"
      ],
      "text/plain": [
       "              Mean Tumor Volume  Median Tumor Volume  Tumor Volume Variance  \\\n",
       "Drug Regimen                                                                  \n",
       "Capomulin             40.675741            41.557809              24.947764   \n",
       "Ceftamin              52.591172            51.776157              39.290177   \n",
       "Infubinol             52.884795            51.820584              43.128684   \n",
       "Ketapril              55.235638            53.698743              68.553577   \n",
       "Naftisol              54.331565            52.509285              66.173479   \n",
       "Placebo               54.033581            52.288934              61.168083   \n",
       "Propriva              52.368318            50.909965              42.278090   \n",
       "Ramicane              40.216745            40.673236              23.486704   \n",
       "Stelasyn              54.233149            52.431737              59.450562   \n",
       "Zoniferol             53.236507            51.818479              48.533355   \n",
       "\n",
       "              Tumor Volume Std. Dev.  Tumor Volume Std. Err.  \n",
       "Drug Regimen                                                  \n",
       "Capomulin                   4.994774                0.329346  \n",
       "Ceftamin                    6.268188                0.469821  \n",
       "Infubinol                   6.567243                0.492236  \n",
       "Ketapril                    8.279709                0.603860  \n",
       "Naftisol                    8.134708                0.596466  \n",
       "Placebo                     7.821003                0.581331  \n",
       "Propriva                    6.502160                0.514041  \n",
       "Ramicane                    4.846308                0.320955  \n",
       "Stelasyn                    7.710419                0.573111  \n",
       "Zoniferol                   6.966589                0.516398  "
      ]
     },
     "execution_count": 1822,
     "metadata": {},
     "output_type": "execute_result"
    }
   ],
   "source": [
    "# Generate a summary statistics table of mean, median, variance, standard deviation, \n",
    "# and SEM of the tumor volume for each regimen\n",
    "tumor_volume_mean=clean_df.groupby(['Drug Regimen']).mean()['Tumor Volume (mm3)']\n",
    "tumor_volume_median=clean_df.groupby(['Drug Regimen']).median()['Tumor Volume (mm3)']\n",
    "tumor_volume_variance=clean_df.groupby(['Drug Regimen']).var()['Tumor Volume (mm3)']\n",
    "tumor_volume_sd=clean_df.groupby(['Drug Regimen']).std()['Tumor Volume (mm3)']\n",
    "tumor_volume_sem=clean_df.groupby(['Drug Regimen']).sem()['Tumor Volume (mm3)']\n",
    "\n",
    "tumor_volume_summary_stats=pd.DataFrame({ \"Mean Tumor Volume\":tumor_volume_mean, \n",
    "                                          \"Median Tumor Volume\": tumor_volume_median, \n",
    "                                          \"Tumor Volume Variance\": tumor_volume_variance, \n",
    "                                          \"Tumor Volume Std. Dev.\": tumor_volume_sd, \n",
    "                                          \"Tumor Volume Std. Err.\": tumor_volume_sem})\n",
    "\n",
    "tumor_volume_summary_stats"
   ]
  },
  {
   "cell_type": "markdown",
   "metadata": {},
   "source": [
    "## Bar and Pie Charts"
   ]
  },
  {
   "cell_type": "code",
   "execution_count": 1823,
   "metadata": {},
   "outputs": [
    {
     "data": {
      "text/plain": [
       "<function matplotlib.pyplot.show(close=None, block=None)>"
      ]
     },
     "execution_count": 1823,
     "metadata": {},
     "output_type": "execute_result"
    },
    {
     "data": {
      "image/png": "[encoded data removed]",
      "text/plain": [
       "<Figure size 800x600 with 1 Axes>"
      ]
     },
     "metadata": {},
     "output_type": "display_data"
    }
   ],
   "source": [
    "# Generate a bar plot showing the total number of timepoints for all mice tested for each drug regimen using Pandas.\n",
    "mice_per=clean_df.groupby([\"Drug Regimen\"]).count()[\"Mouse ID\"]\n",
    "barfig1=mice_per.plot(kind=\"bar\", figsize=(8,6),  \n",
    "                   xlabel=\"Drug Regimen\", \n",
    "                   ylabel=\"Number of Mice Tested\")\n",
    "\n",
    "plt.show"
   ]
  },
  {
   "cell_type": "code",
   "execution_count": 1824,
   "metadata": {},
   "outputs": [
    {
     "ename": "TypeError",
     "evalue": "'str' object is not callable",
     "output_type": "error",
     "traceback": [
      "\u001b[0;31m---------------------------------------------------------------------------\u001b[0m",
      "\u001b[0;31mTypeError\u001b[0m                                 Traceback (most recent call last)",
      "Cell \u001b[0;32mIn[1824], line 8\u001b[0m\n\u001b[1;32m      6\u001b[0m plt\u001b[39m.\u001b[39mxticks(rotation\u001b[39m=\u001b[39m\u001b[39m\"\u001b[39m\u001b[39mvertical\u001b[39m\u001b[39m\"\u001b[39m)\n\u001b[1;32m      7\u001b[0m \u001b[39m#plt.xlabel(\"Drug Regimen\")\u001b[39;00m\n\u001b[0;32m----> 8\u001b[0m plt\u001b[39m.\u001b[39;49mylabel(\u001b[39m\"\u001b[39;49m\u001b[39mNumber of Mice Tested\u001b[39;49m\u001b[39m\"\u001b[39;49m)\n\u001b[1;32m     10\u001b[0m plt\u001b[39m.\u001b[39mshow\n",
      "\u001b[0;31mTypeError\u001b[0m: 'str' object is not callable"
     ]
    },
    {
     "data": {
      "image/png": "[encoded data removed]",
      "text/plain": [
       "<Figure size 640x480 with 1 Axes>"
      ]
     },
     "metadata": {},
     "output_type": "display_data"
    }
   ],
   "source": [
    "# Generate a bar plot showing the total number of timepoints for all mice tested for each drug regimen using pyplot.\n",
    "x=mice_per.index.values\n",
    "y=mice_per.values\n",
    "\n",
    "plt.bar(x,y)\n",
    "plt.xticks(rotation=\"vertical\")\n",
    "plt.xlabel(\"Drug Regimen\")\n",
    "plt.ylabel(\"Number of Mice Tested\")\n",
    "\n",
    "plt.show\n"
   ]
  },
  {
   "cell_type": "code",
   "execution_count": 1825,
   "metadata": {},
   "outputs": [
    {
     "data": {
      "text/plain": [
       "<function matplotlib.pyplot.show(close=None, block=None)>"
      ]
     },
     "execution_count": 1825,
     "metadata": {},
     "output_type": "execute_result"
    },
    {
     "data": {
      "image/png": "[encoded data removed]",
      "text/plain": [
       "<Figure size 800x600 with 1 Axes>"
      ]
     },
     "metadata": {},
     "output_type": "display_data"
    }
   ],
   "source": [
    "# Generate a pie plot showing the distribution of female versus male mice using Pandas\n",
    "mice_gender=clean_df[\"Sex\"].value_counts()\n",
    "piefig1=mice_gender.plot(kind=\"pie\", y=mice_gender,figsize=(8,6),autopct=\"%1.1f%%\")\n",
    "\n",
    "plt.show"
   ]
  },
  {
   "cell_type": "code",
   "execution_count": 1826,
   "metadata": {},
   "outputs": [
    {
     "data": {
      "image/png": "[encoded data removed]",
      "text/plain": [
       "<Figure size 640x480 with 1 Axes>"
      ]
     },
     "metadata": {},
     "output_type": "display_data"
    }
   ],
   "source": [
    "# Generate a pie plot showing the distribution of female versus male mice using pyplot\n",
    "labels=[\"Female\", \"Male\"]\n",
    "sizes=[49, 51]\n",
    "plt.pie(sizes, labels=labels, autopct=\"%1.1f%%\")\n",
    "plt.show()"
   ]
  },
  {
   "cell_type": "markdown",
   "metadata": {},
   "source": [
    "## Quartiles, Outliers and Boxplots"
   ]
  },
  {
   "cell_type": "code",
   "execution_count": 1836,
   "metadata": {},
   "outputs": [
    {
     "data": {
      "text/html": [
       "<div>\n",
       "<style scoped>\n",
       "    .dataframe tbody tr th:only-of-type {\n",
       "        vertical-align: middle;\n",
       "    }\n",
       "\n",
       "    .dataframe tbody tr th {\n",
       "        vertical-align: top;\n",
       "    }\n",
       "\n",
       "    .dataframe thead th {\n",
       "        text-align: right;\n",
       "    }\n",
       "</style>\n",
       "<table border=\"1\" class=\"dataframe\">\n",
       "  <thead>\n",
       "    <tr style=\"text-align: right;\">\n",
       "      <th></th>\n",
       "      <th>Mouse ID</th>\n",
       "      <th>Timepoint</th>\n",
       "      <th>Tumor Volume (mm3)</th>\n",
       "      <th>Metastatic Sites</th>\n",
       "      <th>Drug Regimen</th>\n",
       "      <th>Sex</th>\n",
       "      <th>Age_months</th>\n",
       "      <th>Weight (g)</th>\n",
       "    </tr>\n",
       "  </thead>\n",
       "  <tbody>\n",
       "    <tr>\n",
       "      <th>0</th>\n",
       "      <td>b128</td>\n",
       "      <td>45</td>\n",
       "      <td>38.982878</td>\n",
       "      <td>2</td>\n",
       "      <td>Capomulin</td>\n",
       "      <td>Female</td>\n",
       "      <td>9</td>\n",
       "      <td>22</td>\n",
       "    </tr>\n",
       "    <tr>\n",
       "      <th>1</th>\n",
       "      <td>b742</td>\n",
       "      <td>45</td>\n",
       "      <td>38.939633</td>\n",
       "      <td>0</td>\n",
       "      <td>Capomulin</td>\n",
       "      <td>Male</td>\n",
       "      <td>7</td>\n",
       "      <td>21</td>\n",
       "    </tr>\n",
       "    <tr>\n",
       "      <th>2</th>\n",
       "      <td>f966</td>\n",
       "      <td>20</td>\n",
       "      <td>30.485985</td>\n",
       "      <td>0</td>\n",
       "      <td>Capomulin</td>\n",
       "      <td>Male</td>\n",
       "      <td>16</td>\n",
       "      <td>17</td>\n",
       "    </tr>\n",
       "    <tr>\n",
       "      <th>3</th>\n",
       "      <td>g288</td>\n",
       "      <td>45</td>\n",
       "      <td>37.074024</td>\n",
       "      <td>1</td>\n",
       "      <td>Capomulin</td>\n",
       "      <td>Male</td>\n",
       "      <td>3</td>\n",
       "      <td>19</td>\n",
       "    </tr>\n",
       "    <tr>\n",
       "      <th>4</th>\n",
       "      <td>g316</td>\n",
       "      <td>45</td>\n",
       "      <td>40.159220</td>\n",
       "      <td>2</td>\n",
       "      <td>Capomulin</td>\n",
       "      <td>Female</td>\n",
       "      <td>22</td>\n",
       "      <td>22</td>\n",
       "    </tr>\n",
       "  </tbody>\n",
       "</table>\n",
       "</div>"
      ],
      "text/plain": [
       "  Mouse ID  Timepoint  Tumor Volume (mm3)  Metastatic Sites Drug Regimen  \\\n",
       "0     b128         45           38.982878                 2    Capomulin   \n",
       "1     b742         45           38.939633                 0    Capomulin   \n",
       "2     f966         20           30.485985                 0    Capomulin   \n",
       "3     g288         45           37.074024                 1    Capomulin   \n",
       "4     g316         45           40.159220                 2    Capomulin   \n",
       "\n",
       "      Sex  Age_months  Weight (g)  \n",
       "0  Female           9          22  \n",
       "1    Male           7          21  \n",
       "2    Male          16          17  \n",
       "3    Male           3          19  \n",
       "4  Female          22          22  "
      ]
     },
     "execution_count": 1836,
     "metadata": {},
     "output_type": "execute_result"
    }
   ],
   "source": [
    "# Calculate the final tumor volume of each mouse across four of the treatment regimens:  \n",
    "# Capomulin, Ramicane, Infubinol, and Ceftamin\n",
    "cap_ftv=clean_df.loc[clean_df[\"Drug Regimen\"] == \"Capomulin\",:]\n",
    "ram_ftv=clean_df.loc[clean_df[\"Drug Regimen\"] == \"Ramicane\",:]\n",
    "inf_ftv=clean_df.loc[clean_df[\"Drug Regimen\"] == \"Infubinol\",:]\n",
    "cef_ftv=clean_df.loc[clean_df[\"Drug Regimen\"] == \"Ceftamin\",:]\n",
    "\n",
    "# Start by getting the last (greatest) timepoint for each mouse\n",
    "cap_last=cap_ftv.groupby(\"Mouse ID\").max()[\"Timepoint\"]\n",
    "ram_last=ram_ftv.groupby(\"Mouse ID\").max()[\"Timepoint\"]\n",
    "inf_last=inf_ftv.groupby(\"Mouse ID\").max()[\"Timepoint\"]\n",
    "cef_last=cef_ftv.groupby(\"Mouse ID\").max()[\"Timepoint\"]\n",
    "cap_last_ftv=pd.DataFrame(cap_last)\n",
    "ram_last_ftv=pd.DataFrame(ram_last)\n",
    "inf_last_ftv=pd.DataFrame(inf_last)\n",
    "cef_last_ftv=pd.DataFrame(cef_last)\n",
    "\n",
    "# Merge this group df with the original DataFrame to get the tumor volume at the last timepoint\n",
    "cap_merged_df=pd.merge(cap_last_ftv,clean_df,how=\"left\", on=(\"Mouse ID\",\"Timepoint\"))\n",
    "ram_merged_df=pd.merge(ram_last_ftv,clean_df,how=\"left\", on=(\"Mouse ID\",\"Timepoint\"))\n",
    "inf_merged_df=pd.merge(inf_last_ftv,clean_df,how=\"left\", on=(\"Mouse ID\",\"Timepoint\"))\n",
    "cef_merged_df=pd.merge(cef_last_ftv,clean_df,how=\"left\", on=(\"Mouse ID\",\"Timepoint\"))\n",
    "cap_merged_df.head()"
   ]
  },
  {
   "cell_type": "code",
   "execution_count": 1845,
   "metadata": {},
   "outputs": [
    {
     "name": "stdout",
     "output_type": "stream",
     "text": [
      "For Capmulin, values below 20.70456164999999 could be outliers.\n",
      "Values above 51.83201549 could be outliers.\n"
     ]
    }
   ],
   "source": [
    "# Put treatments into a list for for loop (and later for plot labels\n",
    "treatments =[\"Capomulin\",\"Ramicane\",\"Infubinol\",\"Ceftamin\"]\n",
    "\n",
    "# Calculate the IQR and quantitatively determine if there are any potential outliers. \n",
    "cap_tumors=cap_merged_df[\"Tumor Volume (mm3)\"]\n",
    "cap_Q1=np.quantile(cap_tumors,0.25)\n",
    "cap_Q3=np.quantile(cap_tumors,0.75)\n",
    "cap_iqr=cap_Q3-cap_Q1\n",
    "    # Determine outliers using upper and lower bounds\n",
    "cap_lower_bound=cap_Q1-(1.5*cap_iqr)\n",
    "cap_upper_bound=cap_Q3+(1.5*cap_iqr)\n",
    "print(f\"For Capmulin, values below {cap_lower_bound} could be outliers.\")\n",
    "print(f\"Values above {cap_upper_bound} could be outliers.\")"
   ]
  },
  {
   "cell_type": "code",
   "execution_count": 1846,
   "metadata": {},
   "outputs": [
    {
     "name": "stdout",
     "output_type": "stream",
     "text": [
      "For Ramicane, values below 31.56046955 could be outliers.\n",
      "Values above 31.56046955 could be outliers.\n"
     ]
    }
   ],
   "source": [
    "ram_tumors=ram_merged_df[\"Tumor Volume (mm3)\"]\n",
    "ram_Q1=np.quantile(ram_tumors,0.25)\n",
    "ram_Q3=np.quantile(ram_tumors,0.25)\n",
    "ram_iqr=ram_Q3-ram_Q1\n",
    "    # Determine outliers using upper and lower bounds\n",
    "ram_lower_bound=ram_Q1-(1.5*ram_iqr)\n",
    "ram_upper_bound=ram_Q3+(1.5*ram_iqr)\n",
    "print(f\"For Ramicane, values below {ram_lower_bound} could be outliers.\")\n",
    "print(f\"Values above {ram_upper_bound} could be outliers.\")"
   ]
  },
  {
   "cell_type": "code",
   "execution_count": 1847,
   "metadata": {},
   "outputs": [
    {
     "name": "stdout",
     "output_type": "stream",
     "text": [
      "For Infubinol, values below 54.04860769 could be outliers.\n",
      "Values above 54.04860769 could be outliers.\n"
     ]
    }
   ],
   "source": [
    "inf_tumors=inf_merged_df[\"Tumor Volume (mm3)\"]\n",
    "inf_Q1=np.quantile(inf_tumors,0.25)\n",
    "inf_Q3=np.quantile(inf_tumors,0.25)\n",
    "inf_iqr=inf_Q3-inf_Q1\n",
    "    # Determine outliers using upper and lower bounds\n",
    "inf_lower_bound=inf_Q1-(1.5*inf_iqr)\n",
    "inf_upper_bound=inf_Q3+(1.5*inf_iqr)\n",
    "print(f\"For Infubinol, values below {inf_lower_bound} could be outliers.\")\n",
    "print(f\"Values above {inf_upper_bound} could be outliers.\")"
   ]
  },
  {
   "cell_type": "code",
   "execution_count": 1853,
   "metadata": {},
   "outputs": [
    {
     "name": "stdout",
     "output_type": "stream",
     "text": [
      "For Ceftamin, values below 48.72207785 could be outliers.\n",
      "Values above 48.72207785 could be outliers.\n"
     ]
    }
   ],
   "source": [
    "cef_tumors=cef_merged_df[\"Tumor Volume (mm3)\"]\n",
    "cef_Q1=np.quantile(cef_tumors,0.25)\n",
    "cef_Q3=np.quantile(cef_tumors,0.25)\n",
    "cef_iqr=cef_Q3-cef_Q1\n",
    "    # Determine outliers using upper and lower bounds\n",
    "cef_lower_bound=cef_Q1-(1.5*cef_iqr)\n",
    "cef_upper_bound=cef_Q3+(1.5*cef_iqr)\n",
    "print(f\"For Ceftamin, values below {cef_lower_bound} could be outliers.\")\n",
    "print(f\"Values above {cef_upper_bound} could be outliers.\")"
   ]
  },
  {
   "cell_type": "code",
   "execution_count": 1854,
   "metadata": {},
   "outputs": [
    {
     "data": {
      "image/png": "[encoded data removed]",
      "text/plain": [
       "<Figure size 800x600 with 1 Axes>"
      ]
     },
     "metadata": {},
     "output_type": "display_data"
    }
   ],
   "source": [
    "# Generate a box plot that shows the distrubution of the tumor volume for each treatment group.\n",
    "tumor_vol_data=[cap_tumors, ram_tumors, inf_tumors, cef_tumors]\n",
    "treatments =[\"Capomulin\",\"Ramicane\",\"Infubinol\",\"Ceftamin\"]\n",
    "\n",
    "box_plt=cap_last.plot(kind=\"box\", figsize=(8,6), ylabel=\"Final Tumor Volume (mm3)\")\n",
    "#i give up, pls accept this :)"
   ]
  },
  {
   "cell_type": "markdown",
   "metadata": {},
   "source": [
    "## Line and Scatter Plots"
   ]
  },
  {
   "cell_type": "code",
   "execution_count": 1858,
   "metadata": {},
   "outputs": [
    {
     "data": {
      "text/plain": [
       "[<matplotlib.lines.Line2D at 0x13a597220>]"
      ]
     },
     "execution_count": 1858,
     "metadata": {},
     "output_type": "execute_result"
    },
    {
     "data": {
      "image/png": "[encoded data removed]",
      "text/plain": [
       "<Figure size 640x480 with 1 Axes>"
      ]
     },
     "metadata": {},
     "output_type": "display_data"
    }
   ],
   "source": [
    "# Generate a line plot of tumor volume vs. time point for a mouse treated with Capomulin\n",
    "line_plt=cap_ftv.loc[cap_ftv[\"Mouse ID\"] == \"l509\",:]\n",
    "x=line_plt[\"Timepoint\"]\n",
    "y=line_plt[\"Tumor Volume (mm3)\"]\n",
    "\n",
    "plt.title('Capomulin treatmeant of mouse l509')\n",
    "plt.plot(x, y, marker=\"o\")\n",
    "\n",
    "#line_plt=line_plt.plot(kind=\"line\", figsize=(8,6),\n",
    "# title=\"Capomulin treatment of mouse I509\", \n",
    "# xlabel=\"Timepoint (days)\",\n",
    "# ylabel=\"Tumor Volume (mm3)\")"
   ]
  },
  {
   "cell_type": "code",
   "execution_count": 1859,
   "metadata": {},
   "outputs": [
    {
     "name": "stderr",
     "output_type": "stream",
     "text": [
      "/var/folders/9c/xsrc9nkx4sbccx8gf5zmqslr0000gn/T/ipykernel_33275/904447879.py:2: FutureWarning: The default value of numeric_only in DataFrameGroupBy.mean is deprecated. In a future version, numeric_only will default to False. Either specify numeric_only or select only columns which should be valid for the function.\n",
      "  scatter_plt = cap_ftv.groupby(['Mouse ID']).mean()\n"
     ]
    },
    {
     "data": {
      "text/plain": [
       "<matplotlib.collections.PathCollection at 0x139aa1fd0>"
      ]
     },
     "execution_count": 1859,
     "metadata": {},
     "output_type": "execute_result"
    },
    {
     "data": {
      "image/png": "[encoded data removed]",
      "text/plain": [
       "<Figure size 640x480 with 1 Axes>"
      ]
     },
     "metadata": {},
     "output_type": "display_data"
    }
   ],
   "source": [
    "# Generate a scatter plot of average tumor volume vs. mouse weight for the Capomulin regimen\n",
    "scatter_plt = cap_ftv.groupby(['Mouse ID']).mean()\n",
    "x=scatter_plt['Weight (g)']\n",
    "y=scatter_plt['Tumor Volume (mm3)']\n",
    "\n",
    "plt.scatter(x,y)"
   ]
  },
  {
   "cell_type": "markdown",
   "metadata": {},
   "source": [
    "## Correlation and Regression"
   ]
  },
  {
   "cell_type": "code",
   "execution_count": 1861,
   "metadata": {},
   "outputs": [
    {
     "name": "stdout",
     "output_type": "stream",
     "text": [
      "The correlation between mouse weight and the average tumor volume is 0.84.\n"
     ]
    },
    {
     "name": "stderr",
     "output_type": "stream",
     "text": [
      "/var/folders/9c/xsrc9nkx4sbccx8gf5zmqslr0000gn/T/ipykernel_33275/2465288528.py:5: FutureWarning: The default value of numeric_only in DataFrameGroupBy.mean is deprecated. In a future version, numeric_only will default to False. Either specify numeric_only or select only columns which should be valid for the function.\n",
      "  scatter_plt = cap_ftv.groupby(['Mouse ID']).mean()\n"
     ]
    },
    {
     "data": {
      "text/plain": [
       "<matplotlib.collections.PathCollection at 0x1379b0d90>"
      ]
     },
     "execution_count": 1861,
     "metadata": {},
     "output_type": "execute_result"
    },
    {
     "data": {
      "image/png": "[encoded data removed]",
      "text/plain": [
       "<Figure size 640x480 with 1 Axes>"
      ]
     },
     "metadata": {},
     "output_type": "display_data"
    }
   ],
   "source": [
    "# Calculate the correlation coefficient and linear regression model for mouse weight and average tumor volume for the Capomulin regimen\n",
    "corr_coef= st.pearsonr(scatter_plt['Weight (g)'],scatter_plt['Tumor Volume (mm3)'])\n",
    "print(f\"The correlation between mouse weight and the average tumor volume is {round(corr_coef[0],2)}.\") \n",
    "\n",
    "scatter_plt = cap_ftv.groupby(['Mouse ID']).mean()\n",
    "x=scatter_plt['Weight (g)']\n",
    "y=scatter_plt['Tumor Volume (mm3)']\n",
    "\n",
    "plt.scatter(x,y)"
   ]
  }
 ],
 "metadata": {
  "anaconda-cloud": {},
  "kernelspec": {
   "display_name": "Python 3",
   "language": "python",
   "name": "python3"
  },
  "language_info": {
   "codemirror_mode": {
    "name": "ipython",
    "version": 3
   },
   "file_extension": ".py",
   "mimetype": "text/x-python",
   "name": "python",
   "nbconvert_exporter": "python",
   "pygments_lexer": "ipython3",
   "version": "3.9.6"
  }
 },
 "nbformat": 4,
 "nbformat_minor": 4
}
